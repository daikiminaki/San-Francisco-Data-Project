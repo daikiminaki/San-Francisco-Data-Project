{
 "cells": [
  {
   "cell_type": "markdown",
   "metadata": {},
   "source": [
    "# What is San Francisco - Buildings and Housing EDA"
   ]
  },
  {
   "cell_type": "code",
   "execution_count": 1,
   "metadata": {},
   "outputs": [],
   "source": [
    "import pandas as pd\n",
    "import matplotlib.pyplot as plt\n",
    "import numpy as np\n",
    "import glob as glob\n",
    "import seaborn as sns; sns.set()"
   ]
  },
  {
   "cell_type": "markdown",
   "metadata": {},
   "source": [
    "## Table of Contents"
   ]
  },
  {
   "cell_type": "code",
   "execution_count": 2,
   "metadata": {},
   "outputs": [
    {
     "data": {
      "text/plain": [
       "['../data/Building and Housing/Library_Usage.csv',\n",
       " '../data/Building and Housing/Schools.csv',\n",
       " '../data/Building and Housing/Housing_Inventory_Data.csv',\n",
       " '../data/Building and Housing/Tall_Building_Inventory.csv',\n",
       " '../data/Building and Housing/Affordable_Housing_Pipeline.csv']"
      ]
     },
     "execution_count": 2,
     "metadata": {},
     "output_type": "execute_result"
    }
   ],
   "source": [
    "glob.glob('../data/Building and Housing/*.csv')"
   ]
  },
  {
   "cell_type": "markdown",
   "metadata": {},
   "source": [
    "## 2 Data"
   ]
  },
  {
   "cell_type": "code",
   "execution_count": 3,
   "metadata": {},
   "outputs": [],
   "source": [
    "housing_inventory = pd.read_csv('../data/Building and Housing/Housing_Inventory_Data.csv')"
   ]
  },
  {
   "cell_type": "code",
   "execution_count": 7,
   "metadata": {},
   "outputs": [],
   "source": [
    "# Clean Columns\n",
    "housing_inventory.columns = [x.lower().replace(' ','_') for x in housing_inventory.columns]"
   ]
  },
  {
   "cell_type": "code",
   "execution_count": 9,
   "metadata": {},
   "outputs": [
    {
     "name": "stdout",
     "output_type": "stream",
     "text": [
      "<class 'pandas.core.frame.DataFrame'>\n",
      "RangeIndex: 4243 entries, 0 to 4242\n",
      "Data columns (total 30 columns):\n",
      "app_no                            4216 non-null object\n",
      "fm                                4243 non-null int64\n",
      "number                            4243 non-null int64\n",
      "street                            4243 non-null object\n",
      "st_type                           4233 non-null object\n",
      "fulladdress                       4243 non-null object\n",
      "descript                          3467 non-null object\n",
      "ext_use                           2586 non-null object\n",
      "prop_use                          3627 non-null object\n",
      "block                             4242 non-null object\n",
      "lot                               4242 non-null object\n",
      "blocklot                          4240 non-null object\n",
      "units                             4243 non-null int64\n",
      "netunits                          4243 non-null int64\n",
      "aff_hsg                           2865 non-null float64\n",
      "aff_target                        1088 non-null object\n",
      "action                            4217 non-null object\n",
      "actdt                             4243 non-null object\n",
      "year                              4243 non-null int64\n",
      "yr_qtr                            4243 non-null object\n",
      "analysis_neighborhood             4220 non-null object\n",
      "planning_district                 4220 non-null object\n",
      "planning_district_number          4220 non-null float64\n",
      "supervisor_district               4220 non-null float64\n",
      "the_geom                          4220 non-null object\n",
      "sf_find_neighborhoods_2           4220 non-null float64\n",
      "current_police_districts_2        4211 non-null float64\n",
      "current_supervisor_districts_2    4220 non-null float64\n",
      "analysis_neighborhoods_2          4220 non-null float64\n",
      "neighborhoods                     4220 non-null float64\n",
      "dtypes: float64(8), int64(5), object(17)\n",
      "memory usage: 994.5+ KB\n"
     ]
    }
   ],
   "source": [
    "housing_inventory.info()"
   ]
  },
  {
   "cell_type": "code",
   "execution_count": 24,
   "metadata": {},
   "outputs": [],
   "source": [
    "# Plot Housing Units\n",
    "housing_units = housing_inventory['units'].value_counts()"
   ]
  },
  {
   "cell_type": "code",
   "execution_count": null,
   "metadata": {},
   "outputs": [],
   "source": [
    "housing_inventory['ext_use'].value_counts()"
   ]
  },
  {
   "cell_type": "code",
   "execution_count": 28,
   "metadata": {},
   "outputs": [
    {
     "data": {
      "text/plain": [
       "APARTMENTS                      1312\n",
       "2 FAMILY DWELLING               1143\n",
       "1 FAMILY DWELLING               1093\n",
       "MISC GROUP RESIDNS.               13\n",
       "RESIDENTIAL HOTEL                 11\n",
       "OFFICE                             9\n",
       "SCHOOL                             8\n",
       "ARTIST LIVE/WORK                   6\n",
       "RETAIL SALES                       4\n",
       "DETACHED SFH                       3\n",
       "FOOD/BEVERAGE HNDLNG               3\n",
       "PUBLIC ASSMBLY OTHER               2\n",
       "ARTIST LIVE/ WORK                  2\n",
       "DAY CARE HOME GT 12                2\n",
       "STUDENT HOUSING                    2\n",
       "TOURIST HOTEL/MOTEL                1\n",
       "CLINICS-MEDIC/DENTAL               1\n",
       "CHURCH                             1\n",
       "NITE CLUB                          1\n",
       "VACANT LOT                         1\n",
       "WAREHOUSE,NO FRNITUR               1\n",
       "SCHOOL ADDITION                    1\n",
       "MOVING & STORAGE                   1\n",
       "1 FAMILY DWELLING & FOOD/BEV       1\n",
       "SOCIAL CARE FACILITY               1\n",
       "FOOD/BEVERAGE HND                  1\n",
       "WORKSHOP COMMERCIAL                1\n",
       "DAY CARE HOME 7 - 12               1\n",
       "TOURIST HOTEL/MOT                  1\n",
       "Name: prop_use, dtype: int64"
      ]
     },
     "execution_count": 28,
     "metadata": {},
     "output_type": "execute_result"
    }
   ],
   "source": [
    "housing_inventory['prop_use'].value_counts()"
   ]
  },
  {
   "cell_type": "code",
   "execution_count": null,
   "metadata": {},
   "outputs": [],
   "source": []
  },
  {
   "cell_type": "code",
   "execution_count": null,
   "metadata": {},
   "outputs": [],
   "source": []
  },
  {
   "cell_type": "code",
   "execution_count": null,
   "metadata": {},
   "outputs": [],
   "source": []
  },
  {
   "cell_type": "code",
   "execution_count": null,
   "metadata": {},
   "outputs": [],
   "source": []
  },
  {
   "cell_type": "code",
   "execution_count": null,
   "metadata": {},
   "outputs": [],
   "source": []
  },
  {
   "cell_type": "code",
   "execution_count": null,
   "metadata": {},
   "outputs": [],
   "source": []
  },
  {
   "cell_type": "code",
   "execution_count": null,
   "metadata": {},
   "outputs": [],
   "source": []
  },
  {
   "cell_type": "code",
   "execution_count": null,
   "metadata": {},
   "outputs": [],
   "source": []
  },
  {
   "cell_type": "code",
   "execution_count": null,
   "metadata": {},
   "outputs": [],
   "source": []
  },
  {
   "cell_type": "code",
   "execution_count": null,
   "metadata": {},
   "outputs": [],
   "source": []
  },
  {
   "cell_type": "code",
   "execution_count": null,
   "metadata": {},
   "outputs": [],
   "source": []
  },
  {
   "cell_type": "code",
   "execution_count": null,
   "metadata": {},
   "outputs": [],
   "source": []
  },
  {
   "cell_type": "code",
   "execution_count": null,
   "metadata": {},
   "outputs": [],
   "source": []
  },
  {
   "cell_type": "code",
   "execution_count": null,
   "metadata": {},
   "outputs": [],
   "source": []
  },
  {
   "cell_type": "code",
   "execution_count": null,
   "metadata": {},
   "outputs": [],
   "source": []
  }
 ],
 "metadata": {
  "kernelspec": {
   "display_name": "Python 3",
   "language": "python",
   "name": "python3"
  },
  "language_info": {
   "codemirror_mode": {
    "name": "ipython",
    "version": 2
   },
   "file_extension": ".py",
   "mimetype": "text/x-python",
   "name": "python",
   "nbconvert_exporter": "python",
   "pygments_lexer": "ipython2",
   "version": "2.7.3"
  }
 },
 "nbformat": 4,
 "nbformat_minor": 2
}

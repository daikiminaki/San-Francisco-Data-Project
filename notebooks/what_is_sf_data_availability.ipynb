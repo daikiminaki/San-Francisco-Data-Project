{
 "cells": [
  {
   "cell_type": "markdown",
   "metadata": {},
   "source": [
    "# What is San Francisco - Exploratory Data Analysis"
   ]
  },
  {
   "cell_type": "code",
   "execution_count": 1,
   "metadata": {},
   "outputs": [],
   "source": [
    "import pandas as pd\n",
    "import matplotlib.pyplot as plt\n",
    "import numpy as np\n",
    "import glob as glob\n",
    "import seaborn as sns; sns.set()"
   ]
  },
  {
   "cell_type": "markdown",
   "metadata": {},
   "source": [
    "## Table of Contents:\n",
    "\n",
    "#### Breaking down the main categories\n",
    "- Businesses\n",
    "- Buildings and Housing\n",
    "- Economics\n",
    "- Infrastructure\n",
    "- Public Safety\n",
    "- Recreation and Public Spaces\n"
   ]
  },
  {
   "cell_type": "code",
   "execution_count": 3,
   "metadata": {},
   "outputs": [
    {
     "data": {
      "text/plain": [
       "['../data/Public Safety',\n",
       " '../data/Economy',\n",
       " '../data/Businesses',\n",
       " '../data/Building and Housing',\n",
       " '../data/Recreation and Public Spaces',\n",
       " '../data/Infrastructure',\n",
       " '../data/QuickFactsFeb-09-2019.csv']"
      ]
     },
     "execution_count": 3,
     "metadata": {},
     "output_type": "execute_result"
    }
   ],
   "source": [
    "glob.glob('../data/*')"
   ]
  },
  {
   "cell_type": "markdown",
   "metadata": {},
   "source": [
    "## Businesses"
   ]
  },
  {
   "cell_type": "code",
   "execution_count": 5,
   "metadata": {},
   "outputs": [
    {
     "data": {
      "text/plain": [
       "['../data/Businesses/Community_Development_Public_Service_Program_Activities_by_Neighborhood.csv',\n",
       " '../data/Businesses/Mobile_Food_Facility_Permit.csv',\n",
       " '../data/Businesses/sf_business_data_clean.csv',\n",
       " '../data/Businesses/Registered_Business_Locations_-_San_Francisco.csv',\n",
       " '../data/Businesses/Active_Business_Locations.csv',\n",
       " '../data/Businesses/Mobile_Food_Schedule.csv',\n",
       " '../data/Businesses/Registered_Business_Locations.csv',\n",
       " '../data/Businesses/Registered_Businesses_sorted_by_End_Date.csv']"
      ]
     },
     "execution_count": 5,
     "metadata": {},
     "output_type": "execute_result"
    }
   ],
   "source": [
    "glob.glob('../data/Businesses/*.csv')"
   ]
  },
  {
   "cell_type": "code",
   "execution_count": null,
   "metadata": {},
   "outputs": [],
   "source": []
  },
  {
   "cell_type": "code",
   "execution_count": null,
   "metadata": {},
   "outputs": [],
   "source": []
  },
  {
   "cell_type": "markdown",
   "metadata": {},
   "source": [
    "## Buildings and Housing"
   ]
  },
  {
   "cell_type": "code",
   "execution_count": 8,
   "metadata": {},
   "outputs": [
    {
     "data": {
      "text/plain": [
       "['../data/Building and Housing/Library_Usage.csv',\n",
       " '../data/Building and Housing/Schools.csv',\n",
       " '../data/Building and Housing/Housing_Inventory_Data.csv',\n",
       " '../data/Building and Housing/Tall_Building_Inventory.csv',\n",
       " '../data/Building and Housing/Affordable_Housing_Pipeline.csv']"
      ]
     },
     "execution_count": 8,
     "metadata": {},
     "output_type": "execute_result"
    }
   ],
   "source": [
    "glob.glob('../data/Building and Housing/*.csv')"
   ]
  },
  {
   "cell_type": "code",
   "execution_count": null,
   "metadata": {},
   "outputs": [],
   "source": []
  },
  {
   "cell_type": "markdown",
   "metadata": {},
   "source": [
    "## Economics"
   ]
  },
  {
   "cell_type": "code",
   "execution_count": 13,
   "metadata": {},
   "outputs": [
    {
     "data": {
      "text/plain": [
       "['../data/Economy/Salaries.csv',\n",
       " '../data/Economy/employee-compensation.csv',\n",
       " '../data/Economy/Budget.csv',\n",
       " '../data/Economy/Donations_to_Recreation_and_Parks_Department.csv',\n",
       " '../data/Economy/Spending_and_Revenue.csv',\n",
       " '../data/Economy/Eviction_Notices.csv']"
      ]
     },
     "execution_count": 13,
     "metadata": {},
     "output_type": "execute_result"
    }
   ],
   "source": [
    "glob.glob('../data/Economy/*.csv')"
   ]
  },
  {
   "cell_type": "code",
   "execution_count": null,
   "metadata": {},
   "outputs": [],
   "source": []
  },
  {
   "cell_type": "markdown",
   "metadata": {},
   "source": [
    "## Infrastructure"
   ]
  },
  {
   "cell_type": "code",
   "execution_count": 14,
   "metadata": {},
   "outputs": [
    {
     "data": {
      "text/plain": [
       "['../data/Infrastructure/Parking_Meters.csv',\n",
       " '../data/Infrastructure/Streets_Data_-Historical_Pavement_Condition_Index__PCI__Scores.csv',\n",
       " '../data/Infrastructure/Bay_Area_Bikeshare_Stations.csv',\n",
       " '../data/Infrastructure/Commuter_Shuttle_Stops.csv',\n",
       " '../data/Infrastructure/Streets_Data_-_Pavement_Condition_Index__PCI__Scores.csv',\n",
       " '../data/Infrastructure/Bicycle_Parking.csv',\n",
       " '../data/Infrastructure/Meter_Inventory.csv',\n",
       " '../data/Infrastructure/MTA.sidewalk_widths.csv',\n",
       " '../data/Infrastructure/Air_Traffic_Cargo_Statistics.csv',\n",
       " '../data/Infrastructure/Air_Traffic_Passenger_Statistics.csv',\n",
       " '../data/Infrastructure/Muni_Stops.csv',\n",
       " '../data/Infrastructure/Air_Traffic_Landings_Statistics.csv']"
      ]
     },
     "execution_count": 14,
     "metadata": {},
     "output_type": "execute_result"
    }
   ],
   "source": [
    "glob.glob('../data/Infrastructure/*.csv')"
   ]
  },
  {
   "cell_type": "code",
   "execution_count": null,
   "metadata": {},
   "outputs": [],
   "source": []
  },
  {
   "cell_type": "markdown",
   "metadata": {},
   "source": [
    "## Public Safety"
   ]
  },
  {
   "cell_type": "code",
   "execution_count": 15,
   "metadata": {},
   "outputs": [
    {
     "data": {
      "text/plain": [
       "['../data/Public Safety/Police_Department_Incident_Reports__2018_to_Present.csv',\n",
       " '../data/Public Safety/District_Attorney_Trials.csv',\n",
       " '../data/Public Safety/Police_Stations__2011_.csv',\n",
       " '../data/Public Safety/Fire_Incidents.csv',\n",
       " '../data/Public Safety/District_Attorney_Incoming_Caseload.csv',\n",
       " '../data/Public Safety/police_reports_2018_on.csv',\n",
       " '../data/Public Safety/Health_Care_Facilities.csv',\n",
       " '../data/Public Safety/Police_Department_Incident_Reports__Historical_2003_to_May_2018.csv',\n",
       " '../data/Public Safety/Fire_Department_Calls_for_Service.csv',\n",
       " '../data/Public Safety/Fire_Permits.csv',\n",
       " '../data/Public Safety/police_reports_2003_2018.csv',\n",
       " '../data/Public Safety/Police_Department_Calls_for_Service.csv',\n",
       " '../data/Public Safety/Reference__Police_Department_Incident_Code_Crosswalk.csv',\n",
       " '../data/Public Safety/sf_police_reports_2003_on.csv',\n",
       " '../data/Public Safety/Arrests_Presented_and_Prosecutions.csv']"
      ]
     },
     "execution_count": 15,
     "metadata": {},
     "output_type": "execute_result"
    }
   ],
   "source": [
    "glob.glob('../data/Public Safety/*.csv')"
   ]
  },
  {
   "cell_type": "code",
   "execution_count": null,
   "metadata": {},
   "outputs": [],
   "source": []
  },
  {
   "cell_type": "markdown",
   "metadata": {},
   "source": [
    "## Recreation and Public Spaces"
   ]
  },
  {
   "cell_type": "code",
   "execution_count": 12,
   "metadata": {},
   "outputs": [
    {
     "data": {
      "text/plain": [
       "['../data/Recreation and Public Spaces/Film_Locations_in_San_Francisco.csv',\n",
       " '../data/Recreation and Public Spaces/Recreation_and_Parks_Properties.csv',\n",
       " '../data/Recreation and Public Spaces/Privately_Owned_Public_Open_Spaces.csv',\n",
       " '../data/Recreation and Public Spaces/Assets_Maintained_by_the_Recreation_and_Parks_Department.csv',\n",
       " '../data/Recreation and Public Spaces/Civic_Art_Collection.csv']"
      ]
     },
     "execution_count": 12,
     "metadata": {},
     "output_type": "execute_result"
    }
   ],
   "source": [
    "glob.glob('../data/Recreation and Public Spaces/*.csv')"
   ]
  },
  {
   "cell_type": "code",
   "execution_count": null,
   "metadata": {},
   "outputs": [],
   "source": []
  },
  {
   "cell_type": "code",
   "execution_count": null,
   "metadata": {},
   "outputs": [],
   "source": []
  },
  {
   "cell_type": "code",
   "execution_count": null,
   "metadata": {},
   "outputs": [],
   "source": []
  },
  {
   "cell_type": "code",
   "execution_count": null,
   "metadata": {},
   "outputs": [],
   "source": []
  },
  {
   "cell_type": "code",
   "execution_count": null,
   "metadata": {},
   "outputs": [],
   "source": []
  },
  {
   "cell_type": "code",
   "execution_count": null,
   "metadata": {},
   "outputs": [],
   "source": []
  },
  {
   "cell_type": "code",
   "execution_count": null,
   "metadata": {},
   "outputs": [],
   "source": []
  },
  {
   "cell_type": "code",
   "execution_count": null,
   "metadata": {},
   "outputs": [],
   "source": []
  }
 ],
 "metadata": {
  "kernelspec": {
   "display_name": "Python 3",
   "language": "python",
   "name": "python3"
  },
  "language_info": {
   "codemirror_mode": {
    "name": "ipython",
    "version": 2
   },
   "file_extension": ".py",
   "mimetype": "text/x-python",
   "name": "python",
   "nbconvert_exporter": "python",
   "pygments_lexer": "ipython2",
   "version": "2.7.3"
  }
 },
 "nbformat": 4,
 "nbformat_minor": 2
}
